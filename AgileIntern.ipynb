{
  "nbformat": 4,
  "nbformat_minor": 0,
  "metadata": {
    "colab": {
      "provenance": []
    },
    "kernelspec": {
      "name": "python3",
      "display_name": "Python 3"
    },
    "language_info": {
      "name": "python"
    }
  },
  "cells": [
    {
      "cell_type": "code",
      "execution_count": 1,
      "metadata": {
        "id": "lsQCTiz8xjgo"
      },
      "outputs": [],
      "source": [
        "import pandas as pd\n",
        "d1 = pd.read_excel('Input_1.xlsx')\n",
        "d2 = pd.read_excel('Input_2.xlsx')"
      ]
    },
    {
      "cell_type": "code",
      "source": [
        "d1.drop(['S No'],axis=1,inplace=True)\n",
        "d2.drop(['S No'],axis=1,inplace=True)"
      ],
      "metadata": {
        "id": "xw-50K8cxp5m"
      },
      "execution_count": 2,
      "outputs": []
    },
    {
      "cell_type": "code",
      "source": [
        "df=d2[['name','uid','total_statements','total_reasons']]\n",
        "df.rename(columns={'name':'Name','uid':'UID','total_statements':'No. of Statements','total_reasons':'No. of Reasons'},inplace=True)\n",
        "df=pd.DataFrame(df.sort_values(by=['No. of Statements','No. of Reasons','Name'],ascending=False))\n",
        "df['Rank']=df[['No. of Statements','No. of Reasons','Name']].apply(tuple,axis=1).rank(method='dense',ascending=False).astype(int)\n",
        "df=df[df.columns[[4,0,1,2,3]]]\n",
        "df.to_excel('output2.xlsx')"
      ],
      "metadata": {
        "colab": {
          "base_uri": "https://localhost:8080/"
        },
        "id": "NYdb_wVGxwWu",
        "outputId": "d8644370-897b-433f-bca9-5e359ef52966"
      },
      "execution_count": 3,
      "outputs": [
        {
          "output_type": "stream",
          "name": "stderr",
          "text": [
            "<ipython-input-3-ecc5eebe5b82>:2: SettingWithCopyWarning: \n",
            "A value is trying to be set on a copy of a slice from a DataFrame\n",
            "\n",
            "See the caveats in the documentation: https://pandas.pydata.org/pandas-docs/stable/user_guide/indexing.html#returning-a-view-versus-a-copy\n",
            "  df.rename(columns={'name':'Name','uid':'UID','total_statements':'No. of Statements','total_reasons':'No. of Reasons'},inplace=True)\n"
          ]
        }
      ]
    },
    {
      "cell_type": "code",
      "source": [
        "d3= pd.merge(d1,d2,left_on='User ID',right_on='uid',how='left')\n",
        "d3.drop(['uid','name'],axis=1,inplace=True)\n",
        "d4=pd.DataFrame(d3.groupby(['Team Name'])['total_statements','total_reasons'].mean())\n",
        "d4['Rank']= d4[['total_statements','total_reasons']].apply(tuple,axis=1).rank(method='dense',ascending=False).astype(int)\n",
        "nms=['Rank','Team Name','total_statements','total_reasons']\n",
        "d4.reindex(columns=nms)\n",
        "d4=d4[d4.columns[[2,0,1]]]\n",
        "d4.rename(columns = {'total_statements':'Average Statements','total_reasons':'Average Reasons'}, inplace = True)"
      ],
      "metadata": {
        "colab": {
          "base_uri": "https://localhost:8080/"
        },
        "id": "XkBLkH0PyFiW",
        "outputId": "8c861422-de35-4e3c-9df5-f2cb85aa805a"
      },
      "execution_count": 4,
      "outputs": [
        {
          "output_type": "stream",
          "name": "stderr",
          "text": [
            "<ipython-input-4-93f1f596c141>:3: FutureWarning: Indexing with multiple keys (implicitly converted to a tuple of keys) will be deprecated, use a list instead.\n",
            "  d4=pd.DataFrame(d3.groupby(['Team Name'])['total_statements','total_reasons'].mean())\n"
          ]
        }
      ]
    },
    {
      "cell_type": "code",
      "source": [
        "d6=pd.DataFrame()\n",
        "df=pd.DataFrame(d3.groupby(['Team Name']))\n",
        "d6['Thinking Team LeaderBoard']=df[0]\n",
        "d4.index=[0,1,2,3,4,5,6,7]\n",
        "d4=pd.merge(d6, d4, left_index=True, right_index=True)\n",
        "d4=d4[d4.columns[[1,0,2,3]]]\n",
        "d4=pd.DataFrame(d4)\n",
        "d4=pd.DataFrame(d4.sort_values(by=['Rank']))\n",
        "d4['Average Reasons']=d4['Average Reasons'].round(2).astype(float)\n",
        "d4['Average Statements']=d4['Average Statements'].round(2).astype(float)\n",
        "d4.to_excel('output1.xlsx')"
      ],
      "metadata": {
        "colab": {
          "base_uri": "https://localhost:8080/"
        },
        "id": "5eFXscbly2q-",
        "outputId": "8c30a664-ef39-4259-e1be-a6d434f755ea"
      },
      "execution_count": 6,
      "outputs": [
        {
          "output_type": "stream",
          "name": "stderr",
          "text": [
            "<ipython-input-6-84e96d364d5a>:2: FutureWarning: In a future version of pandas, a length 1 tuple will be returned when iterating over a groupby with a grouper equal to a list of length 1. Don't supply a list with a single grouper to avoid this warning.\n",
            "  df=pd.DataFrame(d3.groupby(['Team Name']))\n"
          ]
        }
      ]
    },
    {
      "cell_type": "code",
      "source": [],
      "metadata": {
        "id": "ccV6jg4CzTz9"
      },
      "execution_count": null,
      "outputs": []
    }
  ]
}